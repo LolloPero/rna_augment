{
 "cells": [
  {
   "cell_type": "code",
   "execution_count": 1,
   "metadata": {},
   "outputs": [
    {
     "name": "stdout",
     "output_type": "stream",
     "text": [
      "Processing /projectbig/jupyternotebook/rnaseq_augmentation/rna_augment\n",
      "Building wheels for collected packages: rna-augment\n",
      "  Building wheel for rna-augment (setup.py) ... \u001b[?25ldone\n",
      "\u001b[?25h  Created wheel for rna-augment: filename=rna_augment-1.0-py3-none-any.whl size=4849 sha256=7a014434644fb2e9913b8d96903d65658feaa4b7b76d3115ad365d28cd04185c\n",
      "  Stored in directory: /tmp/pip-ephem-wheel-cache-wmumywkh/wheels/00/ee/c8/8924be0c972354d6a50a3f2237d39b9490c91d31fa5a4de69d\n",
      "Successfully built rna-augment\n",
      "Installing collected packages: rna-augment\n",
      "Successfully installed rna-augment-1.0\n"
     ]
    }
   ],
   "source": [
    "!pip install ."
   ]
  },
  {
   "cell_type": "code",
   "execution_count": null,
   "metadata": {},
   "outputs": [],
   "source": []
  }
 ],
 "metadata": {
  "kernelspec": {
   "display_name": "Python 3",
   "language": "python",
   "name": "python3"
  },
  "language_info": {
   "codemirror_mode": {
    "name": "ipython",
    "version": 3
   },
   "file_extension": ".py",
   "mimetype": "text/x-python",
   "name": "python",
   "nbconvert_exporter": "python",
   "pygments_lexer": "ipython3",
   "version": "3.7.6"
  }
 },
 "nbformat": 4,
 "nbformat_minor": 4
}
