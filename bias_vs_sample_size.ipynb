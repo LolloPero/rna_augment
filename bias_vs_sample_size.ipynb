{
 "cells": [
  {
   "cell_type": "markdown",
   "metadata": {
    "Collapsed": "false"
   },
   "source": [
    "#  Increasing Bias Vs. Increasing Sample Size in Training Data\n",
    "\n",
    "To analyze the effect of training data diversity\n",
    "on prediction accuracy, the following experiments\n",
    "were designed. First, MLP S-S models for sample\n",
    "source prediction were trained with an increasing\n",
    "number of unique SRA studies in the training data,\n",
    "systematically increasing bias diversity. Only SRA\n",
    "studies containing > 100 samples for either class were\n",
    "considered. In order to control for training set size,\n",
    "each SRA study was subsampled to 50 samples before\n",
    "training. Six iterations of this training process were\n",
    "conducted, starting with one study (i.e. one bias) per\n",
    "class (biopsy vs. cell line). At each step one additional\n",
    "SRA study per class was subsampled ending with six\n",
    "SRA biases and 350 samples in the training set per\n",
    "class. As a control experiment, we chose the largest\n",
    "SRA study available for each class to create a training\n",
    "set with a single bias per class. Starting with 50\n",
    "samples per class in six iterations, we subsampled\n",
    "an additional 50 samples ending with 350 samples,\n",
    "thereby assessing the e\u000b",
    "ect on performance that can\n",
    "be attributed to the dataset size. Subsampling and\n",
    "random selection of SRA studies were repeated 10\n",
    "times with different seeds and each configuration was\n",
    "trained on 10 different seeds, yielding an estimate of\n",
    "uncertainty."
   ]
  },
  {
   "cell_type": "code",
   "execution_count": 3,
   "metadata": {
    "Collapsed": "false"
   },
   "outputs": [],
   "source": [
    "import pandas as pd\n",
    "from sup_src import utility\n",
    "import matplotlib.pyplot as plt\n",
    "import seaborn as sns; sns.set()\n",
    "import numpy as np\n",
    "import tensorflow as tf"
   ]
  },
  {
   "cell_type": "markdown",
   "metadata": {
    "Collapsed": "false"
   },
   "source": [
    "Load data"
   ]
  },
  {
   "cell_type": "code",
   "execution_count": 2,
   "metadata": {
    "Collapsed": "false"
   },
   "outputs": [],
   "source": [
    "df_sra_train = pd.read_csv('data/sra_train_sample_source.csv', index_col='run_accession')\n",
    "df_sra_test = pd.read_csv('data/sra_test_sample_source.csv', index_col='run_accession')\n",
    "df_meta = pd.read_csv('data/meta.csv')"
   ]
  },
  {
   "cell_type": "markdown",
   "metadata": {
    "Collapsed": "false"
   },
   "source": [
    "Annotate all samples with their their study accession. This is needed to split the data study wise. "
   ]
  },
  {
   "cell_type": "code",
   "execution_count": null,
   "metadata": {
    "Collapsed": "false"
   },
   "outputs": [],
   "source": [
    "df_sra_train = utility.label_sra_data(df_sra_train, df_meta, 'study_accession')"
   ]
  },
  {
   "cell_type": "markdown",
   "metadata": {
    "Collapsed": "false"
   },
   "source": [
    "- select tissue and cell line only\n",
    "- determine studies that have at least 100 samples "
   ]
  },
  {
   "cell_type": "code",
   "execution_count": null,
   "metadata": {
    "Collapsed": "false"
   },
   "outputs": [],
   "source": [
    "#get studies with n > 100\n",
    "srp_t = df_sra_train.loc[df_sra_train.sample_type == 'TISSUE'].study_accession.unique()\n",
    "srp_cl = df_sra_train.loc[df_sra_train.sample_type == 'CELL LINE'].study_accession.unique()\n",
    "df_tissue = df_sra_train.loc[df_sra_train.study_accession.isin(srp_t)]\n",
    "df_cell_line = df_sra_train.loc[df_sra_train.study_accession.isin(srp_cl)]\n",
    "\n",
    "df_grouped_t = df_tissue.groupby('study_accession').count().sort_values('sample_type',ascending=False)\n",
    "larger_100_t = df_grouped_t.loc[df_grouped_t.sample_type > 100].index.to_list()\n",
    "\n",
    "df_grouped_cl = df_cell_line.groupby('study_accession').count().sort_values('sample_type',ascending=False)\n",
    "larger_100_cl = df_grouped_cl.loc[df_grouped_cl.sample_type > 100].index.to_list()"
   ]
  },
  {
   "cell_type": "markdown",
   "metadata": {
    "Collapsed": "false"
   },
   "source": [
    "## Increase number of biases (figure 4A)\n",
    "- the j index is for the number of random samplings\n",
    "- randomly sample 50 data points from each study selected above\n",
    "- randomly sample 1 to 7 studies for the training set of each class\n",
    "- train model / run experiment as described in **phenotype_prediction.ipynb**"
   ]
  },
  {
   "cell_type": "code",
   "execution_count": null,
   "metadata": {
    "Collapsed": "false"
   },
   "outputs": [],
   "source": [
    "step_size = 50\n",
    "for j in range(3):\n",
    "    df_train_sub = pd.DataFrame()\n",
    "\n",
    "    for each in larger_100_t+larger_100_cl:\n",
    "        #sample 50 datapoints form each study with n > 100\n",
    "        df_sub = df_sra_train.loc[df_sra_train.study_accession == each].sample(step_size)\n",
    "        df_train_sub = pd.concat([df_train_sub, df_sub],axis=0)\n",
    "        \n",
    "    srp_train = df_train_sub.study_accession.unique()\n",
    "\n",
    "    for i in range(1,7):\n",
    "        rn_idx_t = np.random.choice(len(larger_100_t),i,replace=False)\n",
    "        rn_idx_cl = np.random.choice(len(larger_100_cl),i,replace=False)\n",
    "\n",
    "        train_t = df_train_sub.loc[df_train_sub.study_accession.isin(np.array(larger_100_t)[rn_idx_t])]\n",
    "        train_cl = df_train_sub.loc[df_train_sub.study_accession.isin(np.array(larger_100_cl)[rn_idx_cl])]\n",
    "        \n",
    "        train_t.drop('study_accession',axis=1,inplace=True)\n",
    "        train_cl.drop('study_accession',axis=1,inplace=True)\n",
    "        \n",
    "        df_train, df_test, tissue_mapping = utility.class_to_int(pd.concat([train_t, train_cl],axis=0), df_sra_test.copy())\n",
    "        train = df_train.sample(frac=1).values.astype('float32')\n",
    "        test = df_test.sample(frac=1).values.astype('float32')\n",
    "        print(train.shape)\n",
    "        class_weights = utility.get_class_weights(df_train)\n",
    "        assert len(class_weights) == 2\n",
    "        utility.run_experiment(train, test, mapping=tissue_mapping, class_weights=class_weights, model_type='mlp', \n",
    "                       pheno_type='tissue', name='mlp_s_s_inc_bias_run_'+str(j)+'_step_'+str(i), save=True, seeds=3)"
   ]
  },
  {
   "cell_type": "markdown",
   "metadata": {
    "Collapsed": "false"
   },
   "source": [
    "## Increase number of samples (figure 4B)\n",
    "- for each class, select study with most samples\n",
    "- the j index is for the number of random samplings\n",
    "- randomly sample from the training data, increasing by step_size each iteration\n",
    "- train model / run experiment as described in **phenotype_prediction.ipynb**"
   ]
  },
  {
   "cell_type": "code",
   "execution_count": 6,
   "metadata": {
    "Collapsed": "false",
    "collapsed": true,
    "jupyter": {
     "outputs_hidden": true
    }
   },
   "outputs": [
    {
     "name": "stdout",
     "output_type": "stream",
     "text": [
      "[0.5404, 0.4303, 0.742]\n",
      "[0.6032, 0.5279, 0.7561]\n",
      "0.5709\n",
      "0.6290666666666667\n",
      "[0.7697, 0.7271, 0.7732]\n",
      "[0.734, 0.7506, 0.754]\n",
      "0.75666666\n",
      "0.7462\n",
      "[0.4695, 0.6714, 0.7971]\n",
      "[0.5575, 0.709, 0.7749]\n",
      "0.64599997\n",
      "0.6804666666666667\n",
      "[0.548, 0.4443, 0.5821]\n",
      "[0.6174, 0.5376, 0.6423]\n",
      "0.5248\n",
      "0.5991\n",
      "[0.5067, 0.6858, 0.6037]\n",
      "[0.5872, 0.715, 0.6587]\n",
      "0.59873337\n",
      "0.6536333333333334\n",
      "[0.6997, 0.7029, 0.7866]\n",
      "[0.6127, 0.6128, 0.7325]\n",
      "0.7297333\n",
      "0.6526666666666667\n",
      "[0.6861, 0.7045, 0.6927]\n",
      "[0.5894, 0.616, 0.5988]\n",
      "0.6944334\n",
      "0.6014\n",
      "[0.4345, 0.4475, 0.7968]\n",
      "[0.5287, 0.5421, 0.7831]\n",
      "0.5596\n",
      "0.6179666666666667\n",
      "[0.4691, 0.7894, 0.4812]\n",
      "[0.5568, 0.771, 0.5678]\n",
      "0.57989997\n",
      "0.6318666666666667\n",
      "[0.5837, 0.7942, 0.5716]\n",
      "[0.6366, 0.7942, 0.6355]\n",
      "0.6498334\n",
      "0.6887666666666666\n",
      "[0.5162, 0.7904, 0.7882]\n",
      "[0.5935, 0.7438, 0.7461]\n",
      "0.6982667\n",
      "0.6944666666666667\n",
      "[0.7691, 0.6727, 0.7042]\n",
      "[0.7364, 0.5707, 0.6139]\n",
      "0.7153333\n",
      "0.6403333333333334\n",
      "[0.6578, 0.5553, 0.8111]\n",
      "[0.6935, 0.6219, 0.8001]\n",
      "0.67473334\n",
      "0.7051666666666666\n",
      "[0.7669, 0.7249, 0.4749]\n",
      "[0.7545, 0.743, 0.5616]\n",
      "0.6555667\n",
      "0.6863666666666667\n",
      "[0.4517, 0.6966, 0.3995]\n",
      "[0.5456, 0.7135, 0.5112]\n",
      "0.51593333\n",
      "0.5901000000000001\n",
      "[0.7287, 0.7303, 0.722]\n",
      "[0.6518, 0.6504, 0.6397]\n",
      "0.727\n",
      "0.6473\n",
      "[0.7017, 0.6978, 0.694]\n",
      "[0.6098, 0.6048, 0.5993]\n",
      "0.6978333\n",
      "0.6046333333333332\n",
      "[0.8149, 0.6081, 0.431]\n",
      "[0.7959, 0.6645, 0.5294]\n",
      "0.618\n",
      "0.6632666666666666\n",
      "[0.4955, 0.7681, 0.4733]\n",
      "[0.5785, 0.7801, 0.5603]\n",
      "0.5789667\n",
      "0.6396333333333334\n",
      "[0.6915, 0.7427, 0.6889]\n",
      "[0.5945, 0.677, 0.5911]\n",
      "0.7077\n",
      "0.6208666666666667\n",
      "[0.5331, 0.7592, 0.6896]\n",
      "[0.6041, 0.7722, 0.7226]\n",
      "0.6606333\n",
      "0.6996333333333333\n"
     ]
    }
   ],
   "source": [
    "step_size = 50\n",
    "\n",
    "df_grouped_t = df_tissue.groupby('study_accession').count().sort_values('sample_type',ascending=False)\n",
    "srp_t = df_grouped_t.index.to_list()[0]\n",
    "\n",
    "df_grouped_cl = df_cell_line.groupby('study_accession').count().sort_values('sample_type',ascending=False)\n",
    "srp_cl = df_grouped_cl.index.to_list()[0]\n",
    "\n",
    "\n",
    "for j in range(3):\n",
    "\n",
    "    for i in range(1,7):\n",
    "\n",
    "        df_train_t = df_sra_train.loc[df_sra_train.study_accession == srp_t].sample(i*step_size)\n",
    "        df_train_cl = df_sra_train.loc[df_sra_train.study_accession == srp_cl].sample(i*step_size)\n",
    "        df_train = pd.concat([df_train_t,df_train_cl])\n",
    "        df_train.drop('study_accession',axis=1,inplace=True)\n",
    "        df_train, df_test, tissue_mapping = utility.class_to_int(df_train, df_sra_test.copy())\n",
    "        \n",
    "\n",
    "        train = df_train.sample(frac=1).values.astype('float32')\n",
    "        test = df_test.sample(frac=1).values.astype('float32')\n",
    "\n",
    "        class_weights = utility.get_class_weights(df_train.sample(i*step_size))\n",
    "        assert len(class_weights) == 2\n",
    "\n",
    "        utility.run_experiment(train, test, mapping=tissue_mapping, class_weights=class_weights, model_type='mlp', \n",
    "                   pheno_type='tissue', name='mlp_s_s_inc_size_run_'+str(j)+'_step_'+str(i), save=True, seeds=3)"
   ]
  },
  {
   "cell_type": "markdown",
   "metadata": {
    "Collapsed": "false"
   },
   "source": [
    "## Plotting\n",
    "- addapt random sampling iterations and number of steps below accordingly\n",
    "- rename models to be loaded accordingly (see **phenotype_prediction.ipynb**)"
   ]
  },
  {
   "cell_type": "code",
   "execution_count": 10,
   "metadata": {
    "Collapsed": "false"
   },
   "outputs": [],
   "source": [
    "res = pd.DataFrame()\n",
    "\n",
    "for j in range(3):\n",
    "\n",
    "    for i in range(1,7):\n",
    "\n",
    "        for h in range(3):\n",
    "            model_name = 'mlp_s_s_inc_bias_run_'+str(j)+'_step_'+str(i)+'_'+str(h)+'.h5'\n",
    "            mlp_sra = tf.keras.models.load_model('models/'+model_name, compile=False)\n",
    "\n",
    "            acc = utility.mlp_report(test, mlp_sra, 2, tissue_mapping)\n",
    "            tmp_dic = {'name': model_name[:-5], \n",
    "                       'accuracy': acc[0],\n",
    "                      'type': 'sample average',\n",
    "                      'iter': j,\n",
    "                      'studies_per_class': i}        \n",
    "            res = res.append(tmp_dic, ignore_index=True)"
   ]
  },
  {
   "cell_type": "code",
   "execution_count": 11,
   "metadata": {
    "Collapsed": "false"
   },
   "outputs": [
    {
     "data": {
      "text/plain": [
       "<matplotlib.axes._subplots.AxesSubplot at 0x7f26d1196890>"
      ]
     },
     "execution_count": 11,
     "metadata": {},
     "output_type": "execute_result"
    },
    {
     "data": {
      "image/png": "[encoded data removed]",
      "text/plain": [
       "<Figure size 432x288 with 1 Axes>"
      ]
     },
     "metadata": {},
     "output_type": "display_data"
    }
   ],
   "source": [
    "sns.boxplot(x='studies_per_class', y='accuracy', hue='type', data=res)\n"
   ]
  },
  {
   "cell_type": "code",
   "execution_count": 12,
   "metadata": {},
   "outputs": [],
   "source": [
    "res = pd.DataFrame()\n",
    "\n",
    "for j in range(3):\n",
    "\n",
    "    for i in range(1,8):\n",
    "\n",
    "        for h in range(3):\n",
    "            model_name = 'mlp_s_s_inc_size_run_'+str(j)+'_step_'+str(i)+'_'+str(h)+'.h5'\n",
    "            mlp_sra = tf.keras.models.load_model('models/'+model_name, compile=False)\n",
    "\n",
    "            acc = utility.mlp_report(test, mlp_sra, 2, tissue_mapping)\n",
    "            tmp_dic = {'name': model_name[:-5], \n",
    "                       'accuracy': acc[0],\n",
    "                      'type': 'sample average',\n",
    "                      'iter': j,\n",
    "                      'studies_per_class': i}        \n",
    "            res = res.append(tmp_dic, ignore_index=True)"
   ]
  },
  {
   "cell_type": "code",
   "execution_count": 13,
   "metadata": {},
   "outputs": [
    {
     "data": {
      "text/plain": [
       "<matplotlib.axes._subplots.AxesSubplot at 0x7f26ca060810>"
      ]
     },
     "execution_count": 13,
     "metadata": {},
     "output_type": "execute_result"
    },
    {
     "data": {
      "image/png": "[encoded data removed]",
      "text/plain": [
       "<Figure size 432x288 with 1 Axes>"
      ]
     },
     "metadata": {},
     "output_type": "display_data"
    }
   ],
   "source": [
    "sns.boxplot(x='studies_per_class', y='accuracy', hue='type', data=res)\n"
   ]
  }
 ],
 "metadata": {
  "kernelspec": {
   "display_name": "Python 3",
   "language": "python",
   "name": "python3"
  },
  "language_info": {
   "codemirror_mode": {
    "name": "ipython",
    "version": 3
   },
   "file_extension": ".py",
   "mimetype": "text/x-python",
   "name": "python",
   "nbconvert_exporter": "python",
   "pygments_lexer": "ipython3",
   "version": "3.8.5"
  }
 },
 "nbformat": 4,
 "nbformat_minor": 4
}
