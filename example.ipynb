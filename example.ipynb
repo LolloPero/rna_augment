{
 "cells": [
  {
   "cell_type": "code",
   "execution_count": 19,
   "metadata": {
    "Collapsed": "false"
   },
   "outputs": [],
   "source": [
    "%load_ext autoreload\n",
    "%autoreload 2\n",
    "\n",
    "import tensorflow as tf\n",
    "\n",
    "import pandas as pd\n",
    "import numpy as np\n",
    "from src import mlp_utility\n",
    "import gitable_src.model as da_model\n",
    "\n",
    "%aimport -tensorflow\n",
    "%aimport -sklearn\n",
    "%aimport -pandas, -numpy, -seaborn, -matplotlib"
   ]
  },
  {
   "cell_type": "code",
   "execution_count": 20,
   "metadata": {
    "Collapsed": "false"
   },
   "outputs": [],
   "source": [
    "# path = '/mnt/rna_augment/'\n",
    "path = '/projectbig/jupyternotebook/rnaseq_augmentation/1.0/'\n",
    "\n",
    "df_gtex_train = pd.read_csv(path+'data/processed/tissue_fig2b/df_gtex_train_gini.csv', index_col=\"Unnamed: 0\")\n",
    "df_gtex_test = pd.read_csv(path+'data/processed/tissue_fig2b/df_gtex_test_gini.csv', index_col=\"Unnamed: 0\")\n",
    "\n",
    "df_gtex_train = df_gtex_train.loc[~df_gtex_train.tissue.isin(['BLADDER', 'FALLOPIAN TUBE', 'CERVIX UTERI'])].copy()\n",
    "df_gtex_test = df_gtex_test.loc[~df_gtex_test.tissue.isin(['BLADDER', 'FALLOPIAN TUBE', 'CERVIX UTERI'])].copy()\n",
    "\n",
    "df_gtex = pd.concat([df_gtex_train.copy(), df_gtex_test.copy()])\n",
    "df_gtex_train_sra = df_gtex.loc[~df_gtex.tissue.isin(['BLOOD VESSEL'])].copy()\n",
    "\n",
    "df_tcga_opt = pd.read_csv(path+'data/processed/tissue_fig2b/df_tcga_val_gini.csv', index_col=\"bigwig_file\")\n",
    "df_tcga_test = pd.read_csv(path+'data/processed/tissue_fig2b/df_tcga_test_gini.csv', index_col=\"bigwig_file\")\n",
    "\n",
    "df_tcga = pd.concat([df_tcga_opt.copy(), df_tcga_test.copy()])\n",
    "\n",
    "df_sra_test = pd.read_csv(path+'data/processed/tissue_fig2b/df_sra_test_study_split_gini.csv', index_col=\"run_accession\")\n",
    "df_sra_opt = pd.read_csv(path+'data/processed/tissue_fig2b/df_sra_opt_study_split_gini.csv', index_col=\"run_accession\")\n",
    "\n",
    "df_sra_all = pd.concat([df_sra_test.copy(), df_sra_opt.copy()])\n",
    "df_sra_all = df_sra_all.loc[~df_sra_all.tissue.isin(['BLOOD VESSEL','BLADDER', 'FALLOPIAN TUBE', 'CERVIX UTERI'])]\n",
    "\n",
    "df_gtex_sra = pd.concat([df_gtex.copy(), df_sra_all.copy()])"
   ]
  },
  {
   "cell_type": "code",
   "execution_count": 21,
   "metadata": {
    "Collapsed": "false"
   },
   "outputs": [],
   "source": [
    "df_train, df_test, df_sra_opt_norm, tissue_mapping = mlp_utility.reduce_classes_tiplet(df_gtex, df_tcga, df_sra_all)"
   ]
  },
  {
   "cell_type": "code",
   "execution_count": 12,
   "metadata": {
    "Collapsed": "false"
   },
   "outputs": [],
   "source": [
    "source = pd.read_csv('example_gtex_train_data.csv', index_col='sample_id').values.astype('float32')\n",
    "target = pd.read_csv('example_tcga_test_data.csv', index_col='sample_id').values.astype('float32')\n",
    "bias = pd.read_csv('example_sra_train_data.csv', index_col='sample_id').values.astype('float32')"
   ]
  },
  {
   "cell_type": "code",
   "execution_count": 23,
   "metadata": {},
   "outputs": [],
   "source": [
    "df_train.index.names = ['sample_id']\n",
    "df_test.index.names = ['sample_id']\n",
    "df_sra_opt_norm.index.names = ['sample_id']"
   ]
  },
  {
   "cell_type": "code",
   "execution_count": 25,
   "metadata": {},
   "outputs": [],
   "source": [
    "df_test.sample(frac=0.3).to_csv('example_tcga_test_data.csv')"
   ]
  },
  {
   "cell_type": "code",
   "execution_count": 53,
   "metadata": {},
   "outputs": [],
   "source": [
    "source_1 = pd.read_csv('example_gtex_train_data_1.csv', index_col='sample_id')\n",
    "source_2 = pd.read_csv('example_gtex_train_data_2.csv', index_col='sample_id')"
   ]
  },
  {
   "cell_type": "code",
   "execution_count": 26,
   "metadata": {},
   "outputs": [],
   "source": [
    "target = pd.read_csv('example_tcga_test_data.csv', index_col='sample_id')\n",
    "bias = pd.read_csv('example_sra_train_data.csv', index_col='sample_id')"
   ]
  },
  {
   "cell_type": "code",
   "execution_count": 26,
   "metadata": {},
   "outputs": [],
   "source": []
  },
  {
   "cell_type": "code",
   "execution_count": 54,
   "metadata": {},
   "outputs": [],
   "source": [
    "compression_opts = dict(method='zip',\n",
    "                        archive_name='example_gtex_train_data_1.csv')  \n",
    "source_1.to_csv('example_gtex_train_data_1.zip', compression=compression_opts)  \n",
    "\n",
    "compression_opts = dict(method='zip',\n",
    "                        archive_name='example_gtex_train_data_2.csv')  \n",
    "source_2.to_csv('example_gtex_train_data_2.zip', compression=compression_opts)  "
   ]
  },
  {
   "cell_type": "code",
   "execution_count": 48,
   "metadata": {},
   "outputs": [],
   "source": [
    "compression_opts = dict(method='zip',\n",
    "                        archive_name='example_tcga_test_data.csv')  \n",
    "bias.to_csv('example_tcga_test_data.zip', compression=compression_opts)  "
   ]
  },
  {
   "cell_type": "code",
   "execution_count": 49,
   "metadata": {},
   "outputs": [],
   "source": [
    "compression_opts = dict(method='zip',\n",
    "                        archive_name='example_sra_train_data.csv')  \n",
    "bias.to_csv('example_sra_train_data.zip', compression=compression_opts)  "
   ]
  },
  {
   "cell_type": "code",
   "execution_count": 52,
   "metadata": {},
   "outputs": [],
   "source": [
    "nrow = source.shape[0] // 2\n",
    "for i in range(1,3):\n",
    "    source.iloc[(i-1)*nrow:i*nrow].to_csv('example_gtex_train_data_'+str(i)+'.csv')    "
   ]
  },
  {
   "cell_type": "code",
   "execution_count": 13,
   "metadata": {
    "Collapsed": "false"
   },
   "outputs": [],
   "source": [
    "tissue_mapping = {'ADRENAL GLAND': 0,\n",
    " 'BONE MARROW': 1,\n",
    " 'BRAIN': 2,\n",
    " 'BREAST': 3,\n",
    " 'ESOPHAGUS': 4,\n",
    " 'KIDNEY': 5,\n",
    " 'LIVER': 6,\n",
    " 'LUNG': 7,\n",
    " 'OVARY': 8,\n",
    " 'PANCREAS': 9,\n",
    " 'PROSTATE': 10,\n",
    " 'SKIN': 11,\n",
    " 'STOMACH': 12,\n",
    " 'TESTIS': 13,\n",
    " 'THYROID': 14,\n",
    " 'UTERUS': 15}"
   ]
  },
  {
   "cell_type": "code",
   "execution_count": 14,
   "metadata": {
    "Collapsed": "false"
   },
   "outputs": [],
   "source": [
    "config = {'source_layers': [128],\n",
    "      'classifier_layers': [],\n",
    "      'lr': 0.0002,\n",
    "      'classes': 16,\n",
    "      'batch_size': 64,\n",
    "      'margin': 11,\n",
    "         'print': True}"
   ]
  },
  {
   "cell_type": "code",
   "execution_count": 57,
   "metadata": {
    "Collapsed": "false"
   },
   "outputs": [
    {
     "data": {
      "text/html": [
       "<div>\n",
       "<style scoped>\n",
       "    .dataframe tbody tr th:only-of-type {\n",
       "        vertical-align: middle;\n",
       "    }\n",
       "\n",
       "    .dataframe tbody tr th {\n",
       "        vertical-align: top;\n",
       "    }\n",
       "\n",
       "    .dataframe thead th {\n",
       "        text-align: right;\n",
       "    }\n",
       "</style>\n",
       "<table border=\"1\" class=\"dataframe\">\n",
       "  <thead>\n",
       "    <tr style=\"text-align: right;\">\n",
       "      <th></th>\n",
       "      <th>ENSG00000000005.5</th>\n",
       "      <th>ENSG00000001626.14</th>\n",
       "      <th>ENSG00000002587.9</th>\n",
       "      <th>ENSG00000002726.20</th>\n",
       "      <th>ENSG00000002745.12</th>\n",
       "      <th>ENSG00000002746.14</th>\n",
       "      <th>ENSG00000004468.12</th>\n",
       "      <th>ENSG00000004809.13</th>\n",
       "      <th>ENSG00000004846.16</th>\n",
       "      <th>ENSG00000004848.7</th>\n",
       "      <th>...</th>\n",
       "      <th>ENSG00000283567.1</th>\n",
       "      <th>ENSG00000283594.1</th>\n",
       "      <th>ENSG00000283599.1</th>\n",
       "      <th>ENSG00000283619.1</th>\n",
       "      <th>ENSG00000283632.1</th>\n",
       "      <th>ENSG00000283644.1</th>\n",
       "      <th>ENSG00000283652.1</th>\n",
       "      <th>ENSG00000283663.1</th>\n",
       "      <th>ENSG00000283683.1</th>\n",
       "      <th>tissue</th>\n",
       "    </tr>\n",
       "    <tr>\n",
       "      <th>sample_id</th>\n",
       "      <th></th>\n",
       "      <th></th>\n",
       "      <th></th>\n",
       "      <th></th>\n",
       "      <th></th>\n",
       "      <th></th>\n",
       "      <th></th>\n",
       "      <th></th>\n",
       "      <th></th>\n",
       "      <th></th>\n",
       "      <th></th>\n",
       "      <th></th>\n",
       "      <th></th>\n",
       "      <th></th>\n",
       "      <th></th>\n",
       "      <th></th>\n",
       "      <th></th>\n",
       "      <th></th>\n",
       "      <th></th>\n",
       "      <th></th>\n",
       "      <th></th>\n",
       "    </tr>\n",
       "  </thead>\n",
       "  <tbody>\n",
       "    <tr>\n",
       "      <th>GTEX-PWOO-1726-SM-48TDC</th>\n",
       "      <td>0.044760</td>\n",
       "      <td>0.020434</td>\n",
       "      <td>1.821738</td>\n",
       "      <td>0.043114</td>\n",
       "      <td>0.144771</td>\n",
       "      <td>0.001011</td>\n",
       "      <td>0.775638</td>\n",
       "      <td>0.080733</td>\n",
       "      <td>0.008970</td>\n",
       "      <td>3.492316</td>\n",
       "      <td>...</td>\n",
       "      <td>0.114023</td>\n",
       "      <td>0.000000</td>\n",
       "      <td>0.089422</td>\n",
       "      <td>0.000000</td>\n",
       "      <td>1.291368</td>\n",
       "      <td>0.316412</td>\n",
       "      <td>0.253174</td>\n",
       "      <td>0.271577</td>\n",
       "      <td>0.021850</td>\n",
       "      <td>8</td>\n",
       "    </tr>\n",
       "    <tr>\n",
       "      <th>GTEX-11OF3-0011-R8b-SM-57WCS</th>\n",
       "      <td>0.034606</td>\n",
       "      <td>0.020060</td>\n",
       "      <td>0.409162</td>\n",
       "      <td>0.003801</td>\n",
       "      <td>0.035735</td>\n",
       "      <td>0.075476</td>\n",
       "      <td>0.458522</td>\n",
       "      <td>0.005691</td>\n",
       "      <td>0.000253</td>\n",
       "      <td>0.986033</td>\n",
       "      <td>...</td>\n",
       "      <td>1.052411</td>\n",
       "      <td>0.050721</td>\n",
       "      <td>0.020332</td>\n",
       "      <td>0.015006</td>\n",
       "      <td>0.027323</td>\n",
       "      <td>0.000000</td>\n",
       "      <td>0.031109</td>\n",
       "      <td>0.023375</td>\n",
       "      <td>0.003602</td>\n",
       "      <td>2</td>\n",
       "    </tr>\n",
       "    <tr>\n",
       "      <th>GTEX-146FQ-1026-SM-5LU8I</th>\n",
       "      <td>0.094362</td>\n",
       "      <td>0.085092</td>\n",
       "      <td>1.455137</td>\n",
       "      <td>0.277870</td>\n",
       "      <td>0.143593</td>\n",
       "      <td>0.005118</td>\n",
       "      <td>0.244554</td>\n",
       "      <td>0.006030</td>\n",
       "      <td>0.008716</td>\n",
       "      <td>0.015720</td>\n",
       "      <td>...</td>\n",
       "      <td>0.000000</td>\n",
       "      <td>0.000000</td>\n",
       "      <td>0.048768</td>\n",
       "      <td>0.000000</td>\n",
       "      <td>0.608482</td>\n",
       "      <td>0.123684</td>\n",
       "      <td>0.129230</td>\n",
       "      <td>1.236042</td>\n",
       "      <td>0.102766</td>\n",
       "      <td>4</td>\n",
       "    </tr>\n",
       "    <tr>\n",
       "      <th>GTEX-13CF3-1026-SM-5LZWY</th>\n",
       "      <td>0.008815</td>\n",
       "      <td>1.948978</td>\n",
       "      <td>0.160949</td>\n",
       "      <td>0.025389</td>\n",
       "      <td>0.008619</td>\n",
       "      <td>0.001702</td>\n",
       "      <td>0.091486</td>\n",
       "      <td>0.005231</td>\n",
       "      <td>0.000830</td>\n",
       "      <td>0.312152</td>\n",
       "      <td>...</td>\n",
       "      <td>0.012537</td>\n",
       "      <td>0.000000</td>\n",
       "      <td>0.015854</td>\n",
       "      <td>0.001447</td>\n",
       "      <td>0.315391</td>\n",
       "      <td>0.000000</td>\n",
       "      <td>0.029273</td>\n",
       "      <td>0.000772</td>\n",
       "      <td>0.007857</td>\n",
       "      <td>9</td>\n",
       "    </tr>\n",
       "    <tr>\n",
       "      <th>GTEX-XMD1-0011-R5A-SM-4AT47</th>\n",
       "      <td>0.000000</td>\n",
       "      <td>0.048182</td>\n",
       "      <td>0.252434</td>\n",
       "      <td>0.013567</td>\n",
       "      <td>0.783192</td>\n",
       "      <td>0.044670</td>\n",
       "      <td>0.418057</td>\n",
       "      <td>0.022527</td>\n",
       "      <td>0.000000</td>\n",
       "      <td>1.879564</td>\n",
       "      <td>...</td>\n",
       "      <td>0.085011</td>\n",
       "      <td>0.000000</td>\n",
       "      <td>0.000000</td>\n",
       "      <td>0.010374</td>\n",
       "      <td>0.041341</td>\n",
       "      <td>0.000000</td>\n",
       "      <td>0.177014</td>\n",
       "      <td>0.372148</td>\n",
       "      <td>0.004887</td>\n",
       "      <td>2</td>\n",
       "    </tr>\n",
       "  </tbody>\n",
       "</table>\n",
       "<p>5 rows × 6975 columns</p>\n",
       "</div>"
      ],
      "text/plain": [
       "                              ENSG00000000005.5  ENSG00000001626.14  \\\n",
       "sample_id                                                             \n",
       "GTEX-PWOO-1726-SM-48TDC                0.044760            0.020434   \n",
       "GTEX-11OF3-0011-R8b-SM-57WCS           0.034606            0.020060   \n",
       "GTEX-146FQ-1026-SM-5LU8I               0.094362            0.085092   \n",
       "GTEX-13CF3-1026-SM-5LZWY               0.008815            1.948978   \n",
       "GTEX-XMD1-0011-R5A-SM-4AT47            0.000000            0.048182   \n",
       "\n",
       "                              ENSG00000002587.9  ENSG00000002726.20  \\\n",
       "sample_id                                                             \n",
       "GTEX-PWOO-1726-SM-48TDC                1.821738            0.043114   \n",
       "GTEX-11OF3-0011-R8b-SM-57WCS           0.409162            0.003801   \n",
       "GTEX-146FQ-1026-SM-5LU8I               1.455137            0.277870   \n",
       "GTEX-13CF3-1026-SM-5LZWY               0.160949            0.025389   \n",
       "GTEX-XMD1-0011-R5A-SM-4AT47            0.252434            0.013567   \n",
       "\n",
       "                              ENSG00000002745.12  ENSG00000002746.14  \\\n",
       "sample_id                                                              \n",
       "GTEX-PWOO-1726-SM-48TDC                 0.144771            0.001011   \n",
       "GTEX-11OF3-0011-R8b-SM-57WCS            0.035735            0.075476   \n",
       "GTEX-146FQ-1026-SM-5LU8I                0.143593            0.005118   \n",
       "GTEX-13CF3-1026-SM-5LZWY                0.008619            0.001702   \n",
       "GTEX-XMD1-0011-R5A-SM-4AT47             0.783192            0.044670   \n",
       "\n",
       "                              ENSG00000004468.12  ENSG00000004809.13  \\\n",
       "sample_id                                                              \n",
       "GTEX-PWOO-1726-SM-48TDC                 0.775638            0.080733   \n",
       "GTEX-11OF3-0011-R8b-SM-57WCS            0.458522            0.005691   \n",
       "GTEX-146FQ-1026-SM-5LU8I                0.244554            0.006030   \n",
       "GTEX-13CF3-1026-SM-5LZWY                0.091486            0.005231   \n",
       "GTEX-XMD1-0011-R5A-SM-4AT47             0.418057            0.022527   \n",
       "\n",
       "                              ENSG00000004846.16  ENSG00000004848.7  ...  \\\n",
       "sample_id                                                            ...   \n",
       "GTEX-PWOO-1726-SM-48TDC                 0.008970           3.492316  ...   \n",
       "GTEX-11OF3-0011-R8b-SM-57WCS            0.000253           0.986033  ...   \n",
       "GTEX-146FQ-1026-SM-5LU8I                0.008716           0.015720  ...   \n",
       "GTEX-13CF3-1026-SM-5LZWY                0.000830           0.312152  ...   \n",
       "GTEX-XMD1-0011-R5A-SM-4AT47             0.000000           1.879564  ...   \n",
       "\n",
       "                              ENSG00000283567.1  ENSG00000283594.1  \\\n",
       "sample_id                                                            \n",
       "GTEX-PWOO-1726-SM-48TDC                0.114023           0.000000   \n",
       "GTEX-11OF3-0011-R8b-SM-57WCS           1.052411           0.050721   \n",
       "GTEX-146FQ-1026-SM-5LU8I               0.000000           0.000000   \n",
       "GTEX-13CF3-1026-SM-5LZWY               0.012537           0.000000   \n",
       "GTEX-XMD1-0011-R5A-SM-4AT47            0.085011           0.000000   \n",
       "\n",
       "                              ENSG00000283599.1  ENSG00000283619.1  \\\n",
       "sample_id                                                            \n",
       "GTEX-PWOO-1726-SM-48TDC                0.089422           0.000000   \n",
       "GTEX-11OF3-0011-R8b-SM-57WCS           0.020332           0.015006   \n",
       "GTEX-146FQ-1026-SM-5LU8I               0.048768           0.000000   \n",
       "GTEX-13CF3-1026-SM-5LZWY               0.015854           0.001447   \n",
       "GTEX-XMD1-0011-R5A-SM-4AT47            0.000000           0.010374   \n",
       "\n",
       "                              ENSG00000283632.1  ENSG00000283644.1  \\\n",
       "sample_id                                                            \n",
       "GTEX-PWOO-1726-SM-48TDC                1.291368           0.316412   \n",
       "GTEX-11OF3-0011-R8b-SM-57WCS           0.027323           0.000000   \n",
       "GTEX-146FQ-1026-SM-5LU8I               0.608482           0.123684   \n",
       "GTEX-13CF3-1026-SM-5LZWY               0.315391           0.000000   \n",
       "GTEX-XMD1-0011-R5A-SM-4AT47            0.041341           0.000000   \n",
       "\n",
       "                              ENSG00000283652.1  ENSG00000283663.1  \\\n",
       "sample_id                                                            \n",
       "GTEX-PWOO-1726-SM-48TDC                0.253174           0.271577   \n",
       "GTEX-11OF3-0011-R8b-SM-57WCS           0.031109           0.023375   \n",
       "GTEX-146FQ-1026-SM-5LU8I               0.129230           1.236042   \n",
       "GTEX-13CF3-1026-SM-5LZWY               0.029273           0.000772   \n",
       "GTEX-XMD1-0011-R5A-SM-4AT47            0.177014           0.372148   \n",
       "\n",
       "                              ENSG00000283683.1  tissue  \n",
       "sample_id                                                \n",
       "GTEX-PWOO-1726-SM-48TDC                0.021850       8  \n",
       "GTEX-11OF3-0011-R8b-SM-57WCS           0.003602       2  \n",
       "GTEX-146FQ-1026-SM-5LU8I               0.102766       4  \n",
       "GTEX-13CF3-1026-SM-5LZWY               0.007857       9  \n",
       "GTEX-XMD1-0011-R5A-SM-4AT47            0.004887       2  \n",
       "\n",
       "[5 rows x 6975 columns]"
      ]
     },
     "execution_count": 57,
     "metadata": {},
     "output_type": "execute_result"
    }
   ],
   "source": [
    "source.head()"
   ]
  },
  {
   "cell_type": "code",
   "execution_count": 55,
   "metadata": {
    "Collapsed": "false"
   },
   "outputs": [
    {
     "ename": "TypeError",
     "evalue": "'(slice(None, None, None), -1)' is an invalid key",
     "output_type": "error",
     "traceback": [
      "\u001b[0;31m---------------------------------------------------------------------------\u001b[0m",
      "\u001b[0;31mTypeError\u001b[0m                                 Traceback (most recent call last)",
      "\u001b[0;32m<ipython-input-55-fd1286de9d4a>\u001b[0m in \u001b[0;36m<module>\u001b[0;34m\u001b[0m\n\u001b[0;32m----> 1\u001b[0;31m \u001b[0mmodel\u001b[0m \u001b[0;34m=\u001b[0m \u001b[0mda_model\u001b[0m\u001b[0;34m.\u001b[0m\u001b[0mDaModel\u001b[0m\u001b[0;34m(\u001b[0m\u001b[0msource\u001b[0m\u001b[0;34m,\u001b[0m \u001b[0mtarget\u001b[0m\u001b[0;34m,\u001b[0m \u001b[0mbias\u001b[0m\u001b[0;34m,\u001b[0m \u001b[0mtissue_mapping\u001b[0m\u001b[0;34m,\u001b[0m \u001b[0mconfig\u001b[0m\u001b[0;34m=\u001b[0m\u001b[0mconfig\u001b[0m\u001b[0;34m)\u001b[0m\u001b[0;34m\u001b[0m\u001b[0;34m\u001b[0m\u001b[0m\n\u001b[0m",
      "\u001b[0;32m/projectbig/jupyternotebook/rnaseq_augmentation/rna_augment/gitable_src/model.py\u001b[0m in \u001b[0;36m__init__\u001b[0;34m(self, data_source, data_target, data_pairs, tissue_mapping, config)\u001b[0m\n\u001b[1;32m    101\u001b[0m \u001b[0;31m#         self.pos_loss = []\u001b[0m\u001b[0;34m\u001b[0m\u001b[0;34m\u001b[0m\u001b[0;34m\u001b[0m\u001b[0m\n\u001b[1;32m    102\u001b[0m \u001b[0;34m\u001b[0m\u001b[0m\n\u001b[0;32m--> 103\u001b[0;31m         \u001b[0mself\u001b[0m\u001b[0;34m.\u001b[0m\u001b[0mget_class_weights\u001b[0m\u001b[0;34m(\u001b[0m\u001b[0;34m)\u001b[0m\u001b[0;34m\u001b[0m\u001b[0;34m\u001b[0m\u001b[0m\n\u001b[0m\u001b[1;32m    104\u001b[0m         \u001b[0mself\u001b[0m\u001b[0;34m.\u001b[0m\u001b[0mmake_models\u001b[0m\u001b[0;34m(\u001b[0m\u001b[0;34m)\u001b[0m\u001b[0;34m\u001b[0m\u001b[0;34m\u001b[0m\u001b[0m\n\u001b[1;32m    105\u001b[0m \u001b[0;34m\u001b[0m\u001b[0m\n",
      "\u001b[0;32m/projectbig/jupyternotebook/rnaseq_augmentation/rna_augment/gitable_src/model.py\u001b[0m in \u001b[0;36mget_class_weights\u001b[0;34m(self)\u001b[0m\n\u001b[1;32m    106\u001b[0m     \u001b[0;32mdef\u001b[0m \u001b[0mget_class_weights\u001b[0m\u001b[0;34m(\u001b[0m\u001b[0mself\u001b[0m\u001b[0;34m)\u001b[0m\u001b[0;34m:\u001b[0m\u001b[0;34m\u001b[0m\u001b[0;34m\u001b[0m\u001b[0m\n\u001b[1;32m    107\u001b[0m \u001b[0;34m\u001b[0m\u001b[0m\n\u001b[0;32m--> 108\u001b[0;31m         \u001b[0mcw\u001b[0m \u001b[0;34m=\u001b[0m \u001b[0mcompute_class_weight\u001b[0m\u001b[0;34m(\u001b[0m\u001b[0;34m'balanced'\u001b[0m\u001b[0;34m,\u001b[0m \u001b[0mrange\u001b[0m\u001b[0;34m(\u001b[0m\u001b[0mlen\u001b[0m\u001b[0;34m(\u001b[0m\u001b[0mset\u001b[0m\u001b[0;34m(\u001b[0m\u001b[0mself\u001b[0m\u001b[0;34m.\u001b[0m\u001b[0mdata_source\u001b[0m\u001b[0;34m[\u001b[0m\u001b[0;34m:\u001b[0m\u001b[0;34m,\u001b[0m \u001b[0;34m-\u001b[0m\u001b[0;36m1\u001b[0m\u001b[0;34m]\u001b[0m\u001b[0;34m)\u001b[0m\u001b[0;34m)\u001b[0m\u001b[0;34m)\u001b[0m\u001b[0;34m,\u001b[0m \u001b[0mself\u001b[0m\u001b[0;34m.\u001b[0m\u001b[0mdata_source\u001b[0m\u001b[0;34m[\u001b[0m\u001b[0;34m:\u001b[0m\u001b[0;34m,\u001b[0m \u001b[0;34m-\u001b[0m\u001b[0;36m1\u001b[0m\u001b[0;34m]\u001b[0m\u001b[0;34m)\u001b[0m\u001b[0;34m\u001b[0m\u001b[0;34m\u001b[0m\u001b[0m\n\u001b[0m\u001b[1;32m    109\u001b[0m         \u001b[0;32mfor\u001b[0m \u001b[0mi\u001b[0m\u001b[0;34m,\u001b[0m \u001b[0meach\u001b[0m \u001b[0;32min\u001b[0m \u001b[0menumerate\u001b[0m\u001b[0;34m(\u001b[0m\u001b[0mcw\u001b[0m\u001b[0;34m)\u001b[0m\u001b[0;34m:\u001b[0m\u001b[0;34m\u001b[0m\u001b[0;34m\u001b[0m\u001b[0m\n\u001b[1;32m    110\u001b[0m             \u001b[0mself\u001b[0m\u001b[0;34m.\u001b[0m\u001b[0mclass_weights\u001b[0m\u001b[0;34m.\u001b[0m\u001b[0mappend\u001b[0m\u001b[0;34m(\u001b[0m\u001b[0meach\u001b[0m\u001b[0;34m.\u001b[0m\u001b[0mastype\u001b[0m\u001b[0;34m(\u001b[0m\u001b[0;34m'float32'\u001b[0m\u001b[0;34m)\u001b[0m\u001b[0;34m)\u001b[0m\u001b[0;34m\u001b[0m\u001b[0;34m\u001b[0m\u001b[0m\n",
      "\u001b[0;32m/opt/conda/lib/python3.7/site-packages/pandas/core/frame.py\u001b[0m in \u001b[0;36m__getitem__\u001b[0;34m(self, key)\u001b[0m\n\u001b[1;32m   2798\u001b[0m             \u001b[0;32mif\u001b[0m \u001b[0mself\u001b[0m\u001b[0;34m.\u001b[0m\u001b[0mcolumns\u001b[0m\u001b[0;34m.\u001b[0m\u001b[0mnlevels\u001b[0m \u001b[0;34m>\u001b[0m \u001b[0;36m1\u001b[0m\u001b[0;34m:\u001b[0m\u001b[0;34m\u001b[0m\u001b[0;34m\u001b[0m\u001b[0m\n\u001b[1;32m   2799\u001b[0m                 \u001b[0;32mreturn\u001b[0m \u001b[0mself\u001b[0m\u001b[0;34m.\u001b[0m\u001b[0m_getitem_multilevel\u001b[0m\u001b[0;34m(\u001b[0m\u001b[0mkey\u001b[0m\u001b[0;34m)\u001b[0m\u001b[0;34m\u001b[0m\u001b[0;34m\u001b[0m\u001b[0m\n\u001b[0;32m-> 2800\u001b[0;31m             \u001b[0mindexer\u001b[0m \u001b[0;34m=\u001b[0m \u001b[0mself\u001b[0m\u001b[0;34m.\u001b[0m\u001b[0mcolumns\u001b[0m\u001b[0;34m.\u001b[0m\u001b[0mget_loc\u001b[0m\u001b[0;34m(\u001b[0m\u001b[0mkey\u001b[0m\u001b[0;34m)\u001b[0m\u001b[0;34m\u001b[0m\u001b[0;34m\u001b[0m\u001b[0m\n\u001b[0m\u001b[1;32m   2801\u001b[0m             \u001b[0;32mif\u001b[0m \u001b[0mis_integer\u001b[0m\u001b[0;34m(\u001b[0m\u001b[0mindexer\u001b[0m\u001b[0;34m)\u001b[0m\u001b[0;34m:\u001b[0m\u001b[0;34m\u001b[0m\u001b[0;34m\u001b[0m\u001b[0m\n\u001b[1;32m   2802\u001b[0m                 \u001b[0mindexer\u001b[0m \u001b[0;34m=\u001b[0m \u001b[0;34m[\u001b[0m\u001b[0mindexer\u001b[0m\u001b[0;34m]\u001b[0m\u001b[0;34m\u001b[0m\u001b[0;34m\u001b[0m\u001b[0m\n",
      "\u001b[0;32m/opt/conda/lib/python3.7/site-packages/pandas/core/indexes/base.py\u001b[0m in \u001b[0;36mget_loc\u001b[0;34m(self, key, method, tolerance)\u001b[0m\n\u001b[1;32m   2644\u001b[0m                 )\n\u001b[1;32m   2645\u001b[0m             \u001b[0;32mtry\u001b[0m\u001b[0;34m:\u001b[0m\u001b[0;34m\u001b[0m\u001b[0;34m\u001b[0m\u001b[0m\n\u001b[0;32m-> 2646\u001b[0;31m                 \u001b[0;32mreturn\u001b[0m \u001b[0mself\u001b[0m\u001b[0;34m.\u001b[0m\u001b[0m_engine\u001b[0m\u001b[0;34m.\u001b[0m\u001b[0mget_loc\u001b[0m\u001b[0;34m(\u001b[0m\u001b[0mkey\u001b[0m\u001b[0;34m)\u001b[0m\u001b[0;34m\u001b[0m\u001b[0;34m\u001b[0m\u001b[0m\n\u001b[0m\u001b[1;32m   2647\u001b[0m             \u001b[0;32mexcept\u001b[0m \u001b[0mKeyError\u001b[0m\u001b[0;34m:\u001b[0m\u001b[0;34m\u001b[0m\u001b[0;34m\u001b[0m\u001b[0m\n\u001b[1;32m   2648\u001b[0m                 \u001b[0;32mreturn\u001b[0m \u001b[0mself\u001b[0m\u001b[0;34m.\u001b[0m\u001b[0m_engine\u001b[0m\u001b[0;34m.\u001b[0m\u001b[0mget_loc\u001b[0m\u001b[0;34m(\u001b[0m\u001b[0mself\u001b[0m\u001b[0;34m.\u001b[0m\u001b[0m_maybe_cast_indexer\u001b[0m\u001b[0;34m(\u001b[0m\u001b[0mkey\u001b[0m\u001b[0;34m)\u001b[0m\u001b[0;34m)\u001b[0m\u001b[0;34m\u001b[0m\u001b[0;34m\u001b[0m\u001b[0m\n",
      "\u001b[0;32mpandas/_libs/index.pyx\u001b[0m in \u001b[0;36mpandas._libs.index.IndexEngine.get_loc\u001b[0;34m()\u001b[0m\n",
      "\u001b[0;32mpandas/_libs/index.pyx\u001b[0m in \u001b[0;36mpandas._libs.index.IndexEngine.get_loc\u001b[0;34m()\u001b[0m\n",
      "\u001b[0;31mTypeError\u001b[0m: '(slice(None, None, None), -1)' is an invalid key"
     ]
    }
   ],
   "source": [
    "model = da_model.DaModel(source, target, bias, tissue_mapping, config=config)"
   ]
  },
  {
   "cell_type": "code",
   "execution_count": 16,
   "metadata": {
    "Collapsed": "false"
   },
   "outputs": [],
   "source": [
    "model.train_source_mapper(epochs=10)"
   ]
  },
  {
   "cell_type": "code",
   "execution_count": 17,
   "metadata": {
    "Collapsed": "false"
   },
   "outputs": [
    {
     "name": "stdout",
     "output_type": "stream",
     "text": [
      "0.6127214170692431\n"
     ]
    }
   ],
   "source": [
    "model.eval_source_mapper()"
   ]
  },
  {
   "cell_type": "code",
   "execution_count": 18,
   "metadata": {
    "Collapsed": "false"
   },
   "outputs": [
    {
     "name": "stdout",
     "output_type": "stream",
     "text": [
      "0.35507246376811596\n",
      "0.5603864734299517\n",
      "0.6272141706924316\n",
      "0.6586151368760065\n",
      "0.6690821256038647\n",
      "0.7198067632850241\n",
      "0.7391304347826086\n",
      "0.7560386473429952\n",
      "0.7737520128824477\n",
      "0.7657004830917874\n",
      "0.7818035426731079\n",
      "0.7866344605475041\n",
      "0.7962962962962963\n",
      "0.8035426731078905\n",
      "0.8140096618357487\n"
     ]
    }
   ],
   "source": [
    "model.train_da(epochs=15)"
   ]
  },
  {
   "cell_type": "code",
   "execution_count": null,
   "metadata": {
    "Collapsed": "false"
   },
   "outputs": [],
   "source": []
  }
 ],
 "metadata": {
  "kernelspec": {
   "display_name": "Python 3",
   "language": "python",
   "name": "python3"
  },
  "language_info": {
   "codemirror_mode": {
    "name": "ipython",
    "version": 3
   },
   "file_extension": ".py",
   "mimetype": "text/x-python",
   "name": "python",
   "nbconvert_exporter": "python",
   "pygments_lexer": "ipython3",
   "version": "3.7.3"
  }
 },
 "nbformat": 4,
 "nbformat_minor": 4
}
