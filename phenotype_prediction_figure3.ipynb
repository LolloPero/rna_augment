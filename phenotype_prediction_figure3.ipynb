{
 "cells": [
  {
   "cell_type": "markdown",
   "metadata": {
    "Collapsed": "false"
   },
   "source": [
    "# Phenotype Prediction"
   ]
  },
  {
   "cell_type": "code",
   "execution_count": 16,
   "metadata": {
    "Collapsed": "false"
   },
   "outputs": [],
   "source": [
    "import pandas as pd\n",
    "from sup_src import utility\n",
    "import matplotlib.pyplot as plt\n",
    "import seaborn as sns; sns.set()\n",
    "import tensorflow as tf"
   ]
  },
  {
   "cell_type": "code",
   "execution_count": 17,
   "metadata": {
    "Collapsed": "false"
   },
   "outputs": [],
   "source": [
    "df_sra_train = pd.read_csv('data/sra_train_tissue.csv', index_col='run_accession')\n",
    "df_sra_test = pd.read_csv('data/sra_test_tissue.csv', index_col='run_accession')\n",
    "df_gtex = pd.read_csv('data/gtex_tissue.csv', index_col='Unnamed: 0')\n",
    "df_tcga = pd.read_csv('data/tcga_tissue.csv', index_col='bigwig_file')\n",
    "df_bias_injection = pd.concat([df_sra_train,df_sra_test])"
   ]
  },
  {
   "cell_type": "markdown",
   "metadata": {
    "Collapsed": "false"
   },
   "source": [
    "# MLP\n",
    "\n"
   ]
  },
  {
   "cell_type": "code",
   "execution_count": 59,
   "metadata": {
    "Collapsed": "false"
   },
   "outputs": [],
   "source": [
    "df_train, df_test, tissue_mapping = utility.class_to_int(pd.concat([df_gtex, df_bias_injection]), df_tcga)\n",
    "\n",
    "train = df_train.sample(frac=1).values.astype('float32')\n",
    "test = df_test.sample(frac=1).values.astype('float32')\n",
    "class_weights = utility.get_class_weights(df_train)\n",
    "assert len(class_weights) == 16"
   ]
  },
  {
   "cell_type": "code",
   "execution_count": 62,
   "metadata": {
    "Collapsed": "false"
   },
   "outputs": [
    {
     "name": "stdout",
     "output_type": "stream",
     "text": [
      "[0.8307, 0.8602, 0.8555]\n",
      "[0.7669, 0.8285, 0.792]\n",
      "0.8488\n",
      "0.7958000000000002\n"
     ]
    }
   ],
   "source": [
    "utility.run_experiment(train, test, mapping=tissue_mapping, class_weights=class_weights, model_type='mlp', \n",
    "                       pheno_type='tissue', name='mlp_gtex_sra_tcga_tissue', save=True, seeds=3)"
   ]
  },
  {
   "cell_type": "markdown",
   "metadata": {
    "Collapsed": "false"
   },
   "source": [
    "# DA"
   ]
  },
  {
   "cell_type": "markdown",
   "metadata": {
    "Collapsed": "false"
   },
   "source": [
    "<ul>\n",
    "    <li>source_layers: a list of integers representing the number of nodes to be used per layer for the source and bias mapper, [512] will create one layer with 512 nodes</li>\n",
    "    <li>classifier_layers: a list of integers representing the number of nodes to be used per layer for the classifier layer, [] will only create a single output layer with n=classes</li>\n",
    "    <li>lr: learning rate applied in the second training cycle\n",
    "    <li>classes: number of classes in the data</li>\n",
    "    <li>batch_size: number of samples per batch</li>\n",
    "    <li>margin: size of margin applied in triplet loss\n",
    "    <li>print: True / False, if test accuracy should be printed after every epoch during the second training cycle    \n",
    "</ul>"
   ]
  },
  {
   "cell_type": "code",
   "execution_count": 43,
   "metadata": {
    "Collapsed": "false"
   },
   "outputs": [],
   "source": [
    "config = {'mapper_layers': [512],\n",
    "          'classifier_layers': [],\n",
    "          'lr': 0.0005,\n",
    "          'classes': 16,\n",
    "          'batch_size': 64,\n",
    "          'margin': 5,\n",
    "          'print': True}"
   ]
  },
  {
   "cell_type": "code",
   "execution_count": 4,
   "metadata": {
    "Collapsed": "false"
   },
   "outputs": [],
   "source": [
    "df_train, df_test, df_bias, tissue_mapping = utility.class_to_int(df_gtex, df_tcga, df_bias_injection,\n",
    "                                                                 da_mode=True)\n",
    "train = df_train.sample(frac=1).values.astype('float32')\n",
    "test = df_test.sample(frac=1).values.astype('float32')\n",
    "bias = df_bias.sample(frac=1).values.astype('float32')\n",
    "class_weights = utility.get_class_weights(df_train)\n",
    "assert len(class_weights) == 16"
   ]
  },
  {
   "cell_type": "code",
   "execution_count": 53,
   "metadata": {
    "Collapsed": "false",
    "collapsed": true,
    "jupyter": {
     "outputs_hidden": true
    }
   },
   "outputs": [
    {
     "name": "stdout",
     "output_type": "stream",
     "text": [
      "0.6407699443413729\n",
      "0.7809601113172542\n",
      "0.8188775510204082\n",
      "0.8494897959183674\n",
      "0.8577226345083488\n",
      "0.8693181818181818\n",
      "0.8679267161410018\n",
      "0.8649118738404453\n",
      "0.8711734693877551\n",
      "0.8688543599257885\n",
      "0.6665120593692022\n",
      "0.7912801484230055\n",
      "0.8278061224489796\n",
      "0.8580705009276438\n",
      "0.8554035250463822\n",
      "0.8741883116883117\n",
      "0.8646799628942486\n",
      "0.873956400742115\n",
      "0.877435064935065\n",
      "0.8755797773654916\n",
      "0.6865723562152134\n",
      "0.8144712430426716\n",
      "0.8470547309833024\n",
      "0.864448051948052\n",
      "0.8658395176252319\n",
      "0.8719851576994434\n",
      "0.8781307977736549\n",
      "0.875347866419295\n",
      "0.8828849721706865\n",
      "0.87847866419295\n",
      "[0.8689, 0.8756, 0.8785]\n",
      "[0.8057, 0.8194, 0.8128]\n",
      "0.8743333\n",
      "0.8126333333333333\n"
     ]
    }
   ],
   "source": [
    "utility.run_experiment(train, test, bias, tissue_mapping, class_weights, config, model_type='da', name='da_gtex_sra', seeds=3, mlp_epochs=10, da_epochs=10, save=True)"
   ]
  },
  {
   "cell_type": "markdown",
   "metadata": {
    "Collapsed": "false"
   },
   "source": [
    "# Box Plot"
   ]
  },
  {
   "cell_type": "code",
   "execution_count": 5,
   "metadata": {
    "Collapsed": "false"
   },
   "outputs": [],
   "source": [
    "plot_this = ['mlp_gtex_sra_tcga_tissue','da_gtex_sra']\n",
    "\n",
    "res_sample = {}\n",
    "res_tissue = {}\n",
    "res_tcga = pd.DataFrame()\n",
    "\n",
    "for each in plot_this:\n",
    "    sample = []\n",
    "    tissue = []\n",
    "    sample_, tissue_, _ = utility.load_and_predict(each, test, tissue_mapping, 'models/', seeds=3, classes=16)\n",
    "    sample.append(sample_)\n",
    "    tissue.append(tissue_)\n",
    "        \n",
    "    res_sample[each] = sample[0]\n",
    "    res_tissue[each] = tissue[0]\n",
    "    \n",
    "    for i in range(len(sample[0])):\n",
    "        tmp_dic = {'accuracy': float(sample[0][i]),\n",
    "                  'type': 'sample',\n",
    "                  'model': each}\n",
    "        res_tcga = res_tcga.append(tmp_dic, ignore_index=True)\n",
    "        \n",
    "        tmp_dic = {'accuracy': float(tissue[0][i]),\n",
    "          'type': 'class',\n",
    "          'model': each}\n",
    "        res_tcga = res_tcga.append(tmp_dic, ignore_index=True)"
   ]
  },
  {
   "cell_type": "code",
   "execution_count": 6,
   "metadata": {},
   "outputs": [
    {
     "data": {
      "image/png": "[encoded data removed]",
      "text/plain": [
       "<Figure size 432x288 with 1 Axes>"
      ]
     },
     "metadata": {},
     "output_type": "display_data"
    }
   ],
   "source": [
    "ax = sns.boxplot(x='model', y='accuracy', hue='type', data=res_tcga)"
   ]
  },
  {
   "cell_type": "markdown",
   "metadata": {},
   "source": [
    "# Per Class Accuracy"
   ]
  },
  {
   "cell_type": "code",
   "execution_count": 9,
   "metadata": {},
   "outputs": [],
   "source": [
    "list_models = []\n",
    "for i in range(3):\n",
    "    list_models.append(tf.keras.models.load_model('models/mlp_gtex_sra_tcga_tissue_'+str(i)+'.h5', \n",
    "                                               compile=False))\n",
    "\n",
    "res_mlp = utility.mlp_report_per_class(test, list_models[0], 16, tissue_mapping)\n",
    "res_mlp['run'] = 0\n",
    "\n",
    "for i in range(1,3):\n",
    "    df_tmp = utility.mlp_report_per_class(test, list_models[i], 16, tissue_mapping)\n",
    "    df_tmp['run'] = i\n",
    "    res_mlp = pd.concat([res_mlp, df_tmp])\n",
    "\n",
    "res_mlp['data'] = 'MLP G+S-T'"
   ]
  },
  {
   "cell_type": "code",
   "execution_count": 11,
   "metadata": {},
   "outputs": [],
   "source": [
    "list_models = []\n",
    "for i in range(3):\n",
    "    list_models.append(tf.keras.models.load_model('models/da_gtex_sra_'+str(i)+'.h5', \n",
    "                                               compile=False))\n",
    "\n",
    "res_da = utility.mlp_report_per_class(test, list_models[0], 16, tissue_mapping)\n",
    "res_da['run'] = 0\n",
    "\n",
    "for i in range(1,3):\n",
    "    df_tmp = utility.mlp_report_per_class(test, list_models[i], 16, tissue_mapping)\n",
    "    df_tmp['run'] = i\n",
    "    res_da = pd.concat([res_da, df_tmp])\n",
    "\n",
    "res_da['data'] = 'DA G+S-T'"
   ]
  },
  {
   "cell_type": "code",
   "execution_count": 12,
   "metadata": {},
   "outputs": [],
   "source": [
    "res = pd.concat([res_mlp, res_da])"
   ]
  },
  {
   "cell_type": "code",
   "execution_count": 15,
   "metadata": {},
   "outputs": [
    {
     "data": {
      "text/plain": [
       "[Text(0, 0, 'OVARY'),\n",
       " Text(0, 0, 'BRAIN'),\n",
       " Text(0, 0, 'ESOPHAGUS'),\n",
       " Text(0, 0, 'PANCREAS'),\n",
       " Text(0, 0, 'THYROID'),\n",
       " Text(0, 0, 'STOMACH'),\n",
       " Text(0, 0, 'BREAST'),\n",
       " Text(0, 0, 'SKIN'),\n",
       " Text(0, 0, 'LUNG'),\n",
       " Text(0, 0, 'TESTIS'),\n",
       " Text(0, 0, 'BONE MARROW'),\n",
       " Text(0, 0, 'ADRENAL GLAND'),\n",
       " Text(0, 0, 'UTERUS'),\n",
       " Text(0, 0, 'PROSTATE'),\n",
       " Text(0, 0, 'LIVER'),\n",
       " Text(0, 0, 'KIDNEY')]"
      ]
     },
     "execution_count": 15,
     "metadata": {},
     "output_type": "execute_result"
    },
    {
     "data": {
      "image/png": "[encoded data removed]",
      "text/plain": [
       "<Figure size 432x288 with 1 Axes>"
      ]
     },
     "metadata": {},
     "output_type": "display_data"
    }
   ],
   "source": [
    "ax = sns.barplot(x='tissue', y='accuracy', hue='data', data=res)\n",
    "ax.set_xticklabels(ax.get_xticklabels(), rotation=90)"
   ]
  },
  {
   "cell_type": "code",
   "execution_count": null,
   "metadata": {},
   "outputs": [],
   "source": []
  }
 ],
 "metadata": {
  "kernelspec": {
   "display_name": "Python 3",
   "language": "python",
   "name": "python3"
  },
  "language_info": {
   "codemirror_mode": {
    "name": "ipython",
    "version": 3
   },
   "file_extension": ".py",
   "mimetype": "text/x-python",
   "name": "python",
   "nbconvert_exporter": "python",
   "pygments_lexer": "ipython3",
   "version": "3.7.6"
  }
 },
 "nbformat": 4,
 "nbformat_minor": 4
}
